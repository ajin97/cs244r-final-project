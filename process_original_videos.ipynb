{
 "cells": [
  {
   "cell_type": "code",
   "execution_count": null,
   "metadata": {
    "collapsed": true
   },
   "outputs": [],
   "source": [
    "import os\n",
    "import numpy as np\n",
    "import matplotlib.pyplot as plt\n",
    "from PIL import Image, ImageDraw\n",
    "%matplotlib inline"
   ]
  },
  {
   "cell_type": "markdown",
   "metadata": {},
   "source": [
    "## Split original videos into individual frames"
   ]
  },
  {
   "cell_type": "code",
   "execution_count": null,
   "metadata": {
    "collapsed": true
   },
   "outputs": [],
   "source": [
    "original_video_dir = \"../original_videos\"\n",
    "original_video_names = [\n",
    "    \"original_video_1.mp4\",\n",
    "    \"original_video_2.mp4\",\n",
    "    \"original_video_3.mp4\",\n",
    "    \"original_video_4.mp4\",\n",
    "    \"original_video_5.mp4\",\n",
    "    \"original_video_6.mp4\",\n",
    "]"
   ]
  },
  {
   "cell_type": "code",
   "execution_count": null,
   "metadata": {
    "collapsed": true
   },
   "outputs": [],
   "source": [
    "def split_video(read_dir, file_name, write_dir):\n",
    "    command = \"ffmpeg -i \" + os.path.join(read_dir, file_name) + \" -r 30 \" + \\\n",
    "               os.path.join(write_dir, \"image_%03d.png\")\n",
    "    print(command)\n",
    "    os.system(command)"
   ]
  },
  {
   "cell_type": "code",
   "execution_count": null,
   "metadata": {
    "collapsed": false
   },
   "outputs": [],
   "source": [
    "for original_video in original_video_names:\n",
    "    write_dir = os.path.join(original_video_dir, original_video.split(\".\")[0])\n",
    "    if not os.path.exists(write_dir):\n",
    "        os.makedirs(write_dir)\n",
    "    split_video(original_video_dir, original_video, write_dir)"
   ]
  },
  {
   "cell_type": "markdown",
   "metadata": {},
   "source": [
    "## Keep selection of frames for evaluation and rename"
   ]
  },
  {
   "cell_type": "code",
   "execution_count": null,
   "metadata": {
    "collapsed": false
   },
   "outputs": [],
   "source": [
    "frame_ranges = {\n",
    "    \"original_video_1.mp4\": (500, 899),\n",
    "    \"original_video_2.mp4\": (100, 299),\n",
    "    \"original_video_3.mp4\": (580, 879),\n",
    "    \"original_video_4.mp4\": (420, 519),\n",
    "    \"original_video_5.mp4\": (230, 329),\n",
    "    \"original_video_6.mp4\": (160, 359),\n",
    "}\n",
    "\n",
    "total_num_frames = 0\n",
    "for k in frame_ranges:\n",
    "    tup = frame_ranges[k]\n",
    "    total_num_frames += tup[1] - tup[0] + 1\n",
    "    \n",
    "crop_directions = {\n",
    "    \"original_video_1.mp4\": \"left\",\n",
    "    \"original_video_2.mp4\": \"left\",\n",
    "    \"original_video_3.mp4\": \"right\",\n",
    "    \"original_video_4.mp4\": \"middle\",\n",
    "    \"original_video_5.mp4\": \"left\",\n",
    "    \"original_video_6.mp4\": \"right\",\n",
    "}"
   ]
  },
  {
   "cell_type": "code",
   "execution_count": null,
   "metadata": {
    "collapsed": true
   },
   "outputs": [],
   "source": [
    "def crop_frames_and_save(read_dir, write_dir, frame_range, crop_dir):\n",
    "    if not os.path.exists(write_dir):\n",
    "        os.makedirs(write_dir)\n",
    "    \n",
    "    start_index = frame_range[0]\n",
    "    end_index = frame_range[1] + 1\n",
    "    curr_index = 1\n",
    "    \n",
    "    for i in range(start_index, end_index):\n",
    "        image = Image.open(os.path.join(read_dir, \"image_\" + format(i, \"03d\") + \".png\"))\n",
    "        image = image.convert(\"RGB\")\n",
    "        image = np.array(image)\n",
    "        if crop_dir == \"left\":\n",
    "            cropped = image[300:650, :780, :]\n",
    "        elif crop_dir == \"right\":\n",
    "            cropped = image[300:650, 500:, :]\n",
    "        else:\n",
    "            cropped = image[300:650, 250:1030, :]\n",
    "        plt.imsave(os.path.join(write_dir, \"image_\" + format(curr_index, \"03d\") + \".png\"), cropped)\n",
    "        curr_index += 1"
   ]
  },
  {
   "cell_type": "code",
   "execution_count": null,
   "metadata": {
    "collapsed": false
   },
   "outputs": [],
   "source": [
    "processed_dirs = []\n",
    "for k in frame_ranges:\n",
    "    frame_range = frame_ranges[k]\n",
    "    crop_dir = crop_directions[k]\n",
    "    \n",
    "    read_dir = os.path.join(\"../original_videos\", k.split(\".\")[0])\n",
    "    write_dir = os.path.join(\"../dataset\", k.split(\".\")[0].split(\"_\")[-1])\n",
    "    processed_dirs.append(write_dir)\n",
    "    \n",
    "    crop_frames_and_save(read_dir, write_dir, frame_range, crop_dir)"
   ]
  },
  {
   "cell_type": "code",
   "execution_count": null,
   "metadata": {
    "collapsed": true
   },
   "outputs": [],
   "source": [
    "k = \"original_video_3.mp4\"\n",
    "frame_range = frame_ranges[k]\n",
    "crop_dir = crop_directions[k]\n",
    "\n",
    "read_dir = os.path.join(\"../original_videos\", k.split(\".\")[0])\n",
    "write_dir = os.path.join(\"../dataset_2\", k.split(\".\")[0].split(\"_\")[-1])\n",
    "\n",
    "crop_frames_and_save(read_dir, write_dir, frame_range, crop_dir)"
   ]
  },
  {
   "cell_type": "markdown",
   "metadata": {},
   "source": [
    "## Recombine processed frames into video"
   ]
  },
  {
   "cell_type": "code",
   "execution_count": null,
   "metadata": {
    "collapsed": true
   },
   "outputs": [],
   "source": [
    "def combine_video_libx264(read_dir, write_dir, write_file_name):\n",
    "    command = \"ffmpeg -r 30 -i \" + os.path.join(read_dir, \"image_%03d.png\") + \" -vcodec libx264 \" + \\\n",
    "               os.path.join(write_dir, write_file_name)\n",
    "    print(command)\n",
    "    os.system(command)"
   ]
  },
  {
   "cell_type": "code",
   "execution_count": null,
   "metadata": {
    "collapsed": false
   },
   "outputs": [],
   "source": [
    "write_dir = \"../dataset\"\n",
    "for read_dir in processed_dirs:\n",
    "    combine_video_libx264(read_dir, write_dir, read_dir.split(\"/\")[-1] + \".mp4\")"
   ]
  },
  {
   "cell_type": "code",
   "execution_count": null,
   "metadata": {
    "collapsed": true
   },
   "outputs": [],
   "source": []
  }
 ],
 "metadata": {
  "kernelspec": {
   "display_name": "Python 3",
   "language": "python",
   "name": "python3"
  },
  "language_info": {
   "codemirror_mode": {
    "name": "ipython",
    "version": 3
   },
   "file_extension": ".py",
   "mimetype": "text/x-python",
   "name": "python",
   "nbconvert_exporter": "python",
   "pygments_lexer": "ipython3",
   "version": "3.6.4"
  }
 },
 "nbformat": 4,
 "nbformat_minor": 0
}
