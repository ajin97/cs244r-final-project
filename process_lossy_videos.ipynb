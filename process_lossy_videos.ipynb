{
 "cells": [
  {
   "cell_type": "code",
   "execution_count": null,
   "metadata": {
    "collapsed": true
   },
   "outputs": [],
   "source": [
    "import os\n",
    "import numpy as np\n",
    "import matplotlib.pyplot as plt\n",
    "from PIL import Image, ImageDraw\n",
    "%matplotlib inline"
   ]
  },
  {
   "cell_type": "markdown",
   "metadata": {},
   "source": [
    "## Split lossy videos into individual frames (drop loss)"
   ]
  },
  {
   "cell_type": "code",
   "execution_count": null,
   "metadata": {
    "collapsed": false
   },
   "outputs": [],
   "source": [
    "lossy_video_dir = \"../dataset/videos_drop_loss\"\n",
    "lossy_video_names = []\n",
    "\n",
    "for f in os.listdir(lossy_video_dir):\n",
    "    if f.endswith(\".mp4\") and not f.startswith(\".\"):\n",
    "        lossy_video_names.append(f)\n",
    "\n",
    "lossy_video_names = sorted(lossy_video_names)"
   ]
  },
  {
   "cell_type": "code",
   "execution_count": null,
   "metadata": {
    "collapsed": true
   },
   "outputs": [],
   "source": [
    "def split_video(read_dir, file_name, write_dir):\n",
    "    command = \"ffmpeg -i \" + os.path.join(read_dir, file_name) + \" -r 30 \" + \\\n",
    "               os.path.join(write_dir, \"image_%03d.png\")\n",
    "    print(command)\n",
    "    os.system(command)"
   ]
  },
  {
   "cell_type": "code",
   "execution_count": null,
   "metadata": {
    "collapsed": false
   },
   "outputs": [],
   "source": [
    "for lossy_video in lossy_video_names:\n",
    "    write_dir = os.path.join(lossy_video_dir, lossy_video.split(\".\")[0])\n",
    "    if not os.path.exists(write_dir):\n",
    "        os.makedirs(write_dir)\n",
    "    split_video(lossy_video_dir, lossy_video, write_dir)"
   ]
  },
  {
   "cell_type": "markdown",
   "metadata": {
    "collapsed": true
   },
   "source": [
    "## Split lossy videos into individual frames (TCP loss)"
   ]
  },
  {
   "cell_type": "code",
   "execution_count": null,
   "metadata": {
    "collapsed": false
   },
   "outputs": [],
   "source": [
    "lossy_video_dir = \"../dataset/videos_tcp_loss\"\n",
    "lossy_video_names = []\n",
    "\n",
    "for f in os.listdir(lossy_video_dir):\n",
    "    if f.endswith(\".mp4\") and not f.startswith(\".\"):\n",
    "        lossy_video_names.append(f)\n",
    "\n",
    "lossy_video_names = sorted(lossy_video_names)"
   ]
  },
  {
   "cell_type": "code",
   "execution_count": null,
   "metadata": {
    "collapsed": true
   },
   "outputs": [],
   "source": [
    "def split_video(read_dir, file_name, write_dir):\n",
    "    command = \"ffmpeg -i \" + os.path.join(read_dir, file_name) + \" -r 30 \" + \\\n",
    "               os.path.join(write_dir, \"image_%03d.png\")\n",
    "    print(command)\n",
    "    os.system(command)"
   ]
  },
  {
   "cell_type": "code",
   "execution_count": null,
   "metadata": {
    "collapsed": false
   },
   "outputs": [],
   "source": [
    "for lossy_video in lossy_video_names:\n",
    "    write_dir = os.path.join(lossy_video_dir, lossy_video.split(\".\")[0])\n",
    "    if not os.path.exists(write_dir):\n",
    "        os.makedirs(write_dir)\n",
    "    split_video(lossy_video_dir, lossy_video, write_dir)"
   ]
  },
  {
   "cell_type": "code",
   "execution_count": null,
   "metadata": {
    "collapsed": true
   },
   "outputs": [],
   "source": []
  }
 ],
 "metadata": {
  "kernelspec": {
   "display_name": "Python 3",
   "language": "python",
   "name": "python3"
  },
  "language_info": {
   "codemirror_mode": {
    "name": "ipython",
    "version": 3
   },
   "file_extension": ".py",
   "mimetype": "text/x-python",
   "name": "python",
   "nbconvert_exporter": "python",
   "pygments_lexer": "ipython3",
   "version": "3.6.4"
  }
 },
 "nbformat": 4,
 "nbformat_minor": 2
}
