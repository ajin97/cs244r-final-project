{
 "cells": [
  {
   "cell_type": "code",
   "execution_count": null,
   "metadata": {
    "collapsed": true
   },
   "outputs": [],
   "source": [
    "import os\n",
    "import pickle\n",
    "import random\n",
    "import numpy as np\n",
    "import pandas as pd\n",
    "import matplotlib.patches as mpatches\n",
    "import matplotlib.pyplot as plt\n",
    "from PIL import Image, ImageDraw\n",
    "%matplotlib inline"
   ]
  },
  {
   "cell_type": "markdown",
   "metadata": {},
   "source": [
    "## TCP mean performance"
   ]
  },
  {
   "cell_type": "code",
   "execution_count": null,
   "metadata": {
    "collapsed": false
   },
   "outputs": [],
   "source": [
    "tcp_loss_results = pickle.load(open(\"../results/tcp_loss_results.p\", \"rb\"))\n",
    "salt_pepper_loss_results = pickle.load(open(\"../results/salt_and_pepper_results.p\", \"rb\"))\n",
    "prefix = \"../dataset/videos_tcp_loss\""
   ]
  },
  {
   "cell_type": "code",
   "execution_count": null,
   "metadata": {
    "collapsed": false
   },
   "outputs": [],
   "source": [
    "# compute single stream mean (without including drops)\n",
    "num_frames_single = 0.0\n",
    "mean_iou_single = 0.0\n",
    "mean_c_single = 0.0\n",
    "mean_prob_single = 0.0\n",
    "for i in range(1, 7):\n",
    "    k = os.path.join(prefix, str(i) + \"_single\")\n",
    "    num_frames_single += len(tcp_loss_results[k][\"iou\"])\n",
    "    mean_iou_single += np.sum(tcp_loss_results[k][\"iou\"])\n",
    "    mean_c_single += np.sum(tcp_loss_results[k][\"c\"])\n",
    "    mean_prob_single += np.sum(tcp_loss_results[k][\"prob\"])\n",
    "    \n",
    "mean_iou_single /= num_frames_single\n",
    "mean_c_single /= num_frames_single\n",
    "mean_prob_single /= num_frames_single\n",
    "\n",
    "print mean_iou_single\n",
    "print mean_c_single\n",
    "print mean_prob_single"
   ]
  },
  {
   "cell_type": "code",
   "execution_count": null,
   "metadata": {
    "collapsed": false
   },
   "outputs": [],
   "source": [
    "# compute double stream mean\n",
    "num_frames_double = 0.0\n",
    "mean_iou_double = 0.0\n",
    "mean_c_double = 0.0\n",
    "mean_prob_double = 0.0\n",
    "for i in range(1, 7):\n",
    "    k = os.path.join(prefix, str(i) + \"_dual\")\n",
    "    num_frames_double += len(tcp_loss_results[k][\"iou\"])\n",
    "    mean_iou_double += np.sum(tcp_loss_results[k][\"iou\"])\n",
    "    mean_c_double += np.sum(tcp_loss_results[k][\"c\"])\n",
    "    mean_prob_double += np.sum(tcp_loss_results[k][\"prob\"])\n",
    "    \n",
    "mean_iou_double /= num_frames_double\n",
    "mean_c_double /= num_frames_double\n",
    "mean_prob_double /= num_frames_double\n",
    "\n",
    "print mean_iou_double\n",
    "print mean_c_double\n",
    "print mean_prob_double"
   ]
  },
  {
   "cell_type": "code",
   "execution_count": null,
   "metadata": {
    "collapsed": false
   },
   "outputs": [],
   "source": [
    "# single stream mean (including drops)\n",
    "print mean_iou_single * num_frames_single / num_frames_double\n",
    "print mean_c_single * num_frames_single / num_frames_double\n",
    "print mean_prob_single * num_frames_single / num_frames_double"
   ]
  },
  {
   "cell_type": "markdown",
   "metadata": {},
   "source": [
    "## TCP visualization"
   ]
  },
  {
   "cell_type": "code",
   "execution_count": null,
   "metadata": {
    "collapsed": false
   },
   "outputs": [],
   "source": [
    "video_number = 3\n",
    "num_frames = 300\n",
    "k_single = os.path.join(prefix, str(video_number) + \"_single\")\n",
    "k_double = os.path.join(prefix, str(video_number) + \"_dual\")"
   ]
  },
  {
   "cell_type": "code",
   "execution_count": null,
   "metadata": {
    "collapsed": false
   },
   "outputs": [],
   "source": [
    "kept_frames_single = pd.read_csv(os.path.join(prefix, \"frames_kept_single.csv\"), header=None)\n",
    "kept_frames_double = pd.read_csv(os.path.join(prefix, \"frames_kept_double.csv\"), header=None)"
   ]
  },
  {
   "cell_type": "code",
   "execution_count": null,
   "metadata": {
    "collapsed": true
   },
   "outputs": [],
   "source": [
    "double_results = np.zeros(num_frames)\n",
    "double_results[:] = np.nan\n",
    "\n",
    "single_results = np.zeros(num_frames)\n",
    "single_results[:] = np.nan"
   ]
  },
  {
   "cell_type": "code",
   "execution_count": null,
   "metadata": {
    "collapsed": false
   },
   "outputs": [],
   "source": [
    "ind = np.array(kept_frames_double.iloc[:, video_number - 1].dropna().tolist())\n",
    "double_results[ind.astype(int)] = tcp_loss_results[k_double][\"iou\"]\n",
    "\n",
    "ind = np.array(kept_frames_single.iloc[:, video_number - 1].dropna().tolist())\n",
    "single_results[ind.astype(int)] = tcp_loss_results[k_single][\"iou\"]\n",
    "\n",
    "no_loss_results = salt_pepper_loss_results[\"../dataset/\" + str(video_number)][0.0][\"iou\"]"
   ]
  },
  {
   "cell_type": "code",
   "execution_count": null,
   "metadata": {
    "collapsed": false
   },
   "outputs": [],
   "source": [
    "plt.plot(no_loss_results, 'o', color=\"blue\", alpha=0.8)\n",
    "plt.plot(double_results, 'o', color=\"green\", alpha=0.8)\n",
    "plt.plot(single_results, 'o', color=\"red\", alpha=0.8)\n",
    "plt.xlabel(\"Video Frame\")\n",
    "plt.ylabel(\"Intersection over Union (IoU)\")\n",
    "plt.title(\"IoU by Frame\")\n",
    "\n",
    "blue_patch = mpatches.Patch(color=\"blue\", label=\"No loss\")\n",
    "green_patch = mpatches.Patch(color=\"green\", label=\"Dual TCP stream\")\n",
    "red_patch = mpatches.Patch(color=\"red\", label=\"Single TCP stream\")\n",
    "\n",
    "plt.legend(handles=[blue_patch, green_patch, red_patch], loc=\"lower left\")\n",
    "\n",
    "plt.show()"
   ]
  },
  {
   "cell_type": "markdown",
   "metadata": {},
   "source": [
    "## Salt and pepper mean performance"
   ]
  },
  {
   "cell_type": "code",
   "execution_count": null,
   "metadata": {
    "collapsed": false
   },
   "outputs": [],
   "source": [
    "salt_pepper_loss_results = pickle.load(open(\"../results/salt_and_pepper_results.p\", \"rb\"))\n",
    "salt_pepper_loss_df = pd.read_csv(\"../results/salt_and_pepper_df.csv\")"
   ]
  },
  {
   "cell_type": "code",
   "execution_count": null,
   "metadata": {
    "collapsed": false
   },
   "outputs": [],
   "source": [
    "total_num_images = float(salt_pepper_loss_df[\"No. of images\"].sum())\n",
    "cols = salt_pepper_loss_df.columns.tolist()[2:]\n",
    "for col in cols:\n",
    "    val = (salt_pepper_loss_df[col] * salt_pepper_loss_df[\"No. of images\"]).sum()\n",
    "    val /= total_num_images\n",
    "    print col + \": \" + str(val)"
   ]
  },
  {
   "cell_type": "markdown",
   "metadata": {},
   "source": [
    "## Salt and pepper visualization"
   ]
  },
  {
   "cell_type": "code",
   "execution_count": null,
   "metadata": {
    "collapsed": false
   },
   "outputs": [],
   "source": [
    "video_number = 1\n",
    "\n",
    "plt.plot(salt_pepper_loss_results[\"../dataset/\" + str(video_number)][0.0][\"iou\"], 'o', alpha=1.0, ms=5, color=\"blue\")\n",
    "plt.plot(salt_pepper_loss_results[\"../dataset/\" + str(video_number)][0.01][\"iou\"], 'o', alpha=0.8, ms=3, color=\"green\")\n",
    "plt.plot(salt_pepper_loss_results[\"../dataset/\" + str(video_number)][0.05][\"iou\"], 'o', alpha=0.8, ms=3, color=\"orange\")\n",
    "plt.plot(salt_pepper_loss_results[\"../dataset/\" + str(video_number)][0.1][\"iou\"], 'o', alpha=0.8, ms=3, color=\"red\")\n",
    "plt.xlabel(\"Video Frame\")\n",
    "plt.ylabel(\"Intersection over Union (IoU)\")\n",
    "plt.title(\"IoU by Frame\")\n",
    "\n",
    "blue_patch = mpatches.Patch(color=\"blue\", label=\"No loss\")\n",
    "green_patch = mpatches.Patch(color=\"green\", label=\"1% loss\")\n",
    "orange_patch = mpatches.Patch(color=\"orange\", label=\"5% loss\")\n",
    "red_patch = mpatches.Patch(color=\"red\", label=\"10% loss\")\n",
    "\n",
    "plt.legend(handles=[blue_patch, green_patch, orange_patch, red_patch], loc=\"lower left\")\n",
    "\n",
    "plt.show()"
   ]
  },
  {
   "cell_type": "code",
   "execution_count": null,
   "metadata": {
    "collapsed": false
   },
   "outputs": [],
   "source": [
    "video_number = 1\n",
    "\n",
    "plt.plot(salt_pepper_loss_results[\"../dataset/\" + str(video_number)][0.0][\"iou\"], 'o', alpha=0.8, color=\"blue\", ms=5)\n",
    "plt.plot(salt_pepper_loss_results[\"../dataset/\" + str(video_number)][0.0][\"c\"], 'o', alpha=0.8, color=\"green\", ms=3)\n",
    "plt.plot(salt_pepper_loss_results[\"../dataset/\" + str(video_number)][0.0][\"prob\"], 'o', alpha=0.8, color=\"red\", ms=3)\n",
    "plt.xlabel(\"Video Frame\")\n",
    "plt.ylabel(\"Score\")\n",
    "plt.title(\"Scores by Frame (No Loss)\")\n",
    "\n",
    "\n",
    "blue_patch = mpatches.Patch(color=\"blue\", label=\"IoU\")\n",
    "green_patch = mpatches.Patch(color=\"green\", label=\"Confidence\")\n",
    "red_patch = mpatches.Patch(color=\"red\", label=\"Probability\")\n",
    "\n",
    "plt.legend(handles=[blue_patch, green_patch, red_patch], loc=\"lower left\")\n",
    "\n",
    "plt.show()"
   ]
  },
  {
   "cell_type": "markdown",
   "metadata": {},
   "source": [
    "## Drop loss mean performance"
   ]
  },
  {
   "cell_type": "code",
   "execution_count": null,
   "metadata": {
    "collapsed": true
   },
   "outputs": [],
   "source": [
    "drop_loss_df = pd.read_csv(\"../results/drop_loss_df.csv\")"
   ]
  },
  {
   "cell_type": "code",
   "execution_count": null,
   "metadata": {
    "collapsed": false
   },
   "outputs": [],
   "source": [
    "print (drop_loss_df[\"IoU (p=0.1)\"] * drop_loss_df[\"Image no. (p=0.1)\"]).sum() / float(drop_loss_df[\"Image no. (p=0.1)\"].sum())\n",
    "print (drop_loss_df[\"IoU (p=0.2)\"] * drop_loss_df[\"Image no. (p=0.2)\"]).sum() / float(drop_loss_df[\"Image no. (p=0.2)\"].sum())\n",
    "print (drop_loss_df[\"IoU (p=0.3)\"] * drop_loss_df[\"Image no. (p=0.3)\"]).sum() / float(drop_loss_df[\"Image no. (p=0.3)\"].sum())"
   ]
  },
  {
   "cell_type": "code",
   "execution_count": null,
   "metadata": {
    "collapsed": false
   },
   "outputs": [],
   "source": [
    "print (drop_loss_df[\"Conf. (p=0.1)\"] * drop_loss_df[\"Image no. (p=0.1)\"]).sum() / float(drop_loss_df[\"Image no. (p=0.1)\"].sum())\n",
    "print (drop_loss_df[\"Conf. (p=0.2)\"] * drop_loss_df[\"Image no. (p=0.2)\"]).sum() / float(drop_loss_df[\"Image no. (p=0.2)\"].sum())\n",
    "print (drop_loss_df[\"Conf. (p=0.3)\"] * drop_loss_df[\"Image no. (p=0.3)\"]).sum() / float(drop_loss_df[\"Image no. (p=0.3)\"].sum())"
   ]
  },
  {
   "cell_type": "code",
   "execution_count": null,
   "metadata": {
    "collapsed": false
   },
   "outputs": [],
   "source": [
    "print (drop_loss_df[\"Prob. (p=0.1)\"] * drop_loss_df[\"Image no. (p=0.1)\"]).sum() / float(drop_loss_df[\"Image no. (p=0.1)\"].sum())\n",
    "print (drop_loss_df[\"Prob. (p=0.2)\"] * drop_loss_df[\"Image no. (p=0.2)\"]).sum() / float(drop_loss_df[\"Image no. (p=0.2)\"].sum())\n",
    "print (drop_loss_df[\"Prob. (p=0.3)\"] * drop_loss_df[\"Image no. (p=0.3)\"]).sum() / float(drop_loss_df[\"Image no. (p=0.3)\"].sum())"
   ]
  },
  {
   "cell_type": "code",
   "execution_count": null,
   "metadata": {
    "collapsed": true
   },
   "outputs": [],
   "source": []
  }
 ],
 "metadata": {
  "kernelspec": {
   "display_name": "Python 2",
   "language": "python",
   "name": "python2"
  },
  "language_info": {
   "codemirror_mode": {
    "name": "ipython",
    "version": 2
   },
   "file_extension": ".py",
   "mimetype": "text/x-python",
   "name": "python",
   "nbconvert_exporter": "python",
   "pygments_lexer": "ipython2",
   "version": "2.7.11"
  }
 },
 "nbformat": 4,
 "nbformat_minor": 2
}
