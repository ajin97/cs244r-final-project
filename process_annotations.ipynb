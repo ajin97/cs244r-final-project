{
 "cells": [
  {
   "cell_type": "code",
   "execution_count": null,
   "metadata": {
    "collapsed": true
   },
   "outputs": [],
   "source": [
    "import os\n",
    "import pickle\n",
    "import numpy as np\n",
    "import xml.etree.ElementTree as etree\n",
    "from PIL import Image, ImageDraw\n",
    "import matplotlib.pyplot as plt\n",
    "%matplotlib inline"
   ]
  },
  {
   "cell_type": "code",
   "execution_count": null,
   "metadata": {
    "collapsed": true
   },
   "outputs": [],
   "source": [
    "class Box:\n",
    "    def __init__(self):\n",
    "        self.x, self.y = float(), float()\n",
    "        self.w, self.h = float(), float()\n",
    "        self.c = float()\n",
    "        self.prob = float()\n",
    "        \n",
    "def draw_boxes(boxes, im, crop_dim, box_color=(255, 0, 0)):\n",
    "    PIL_image = Image.fromarray(im.copy())\n",
    "    draw = ImageDraw.Draw(PIL_image)\n",
    "    [xmin, xmax] = crop_dim[0]\n",
    "    [ymin, ymax] = crop_dim[1]\n",
    "    \n",
    "    height, width, _ = im.shape\n",
    "    for b in boxes:\n",
    "        w = xmax - xmin\n",
    "        h = ymax - ymin\n",
    "\n",
    "        left = int((b.x - b.w / 2.) * w) + xmin\n",
    "        right = int((b.x + b.w / 2.) * w) + xmin\n",
    "        top = int((b.y - b.h / 2.) * h) + ymin\n",
    "        bot = int((b.y + b.h / 2.) * h) + ymin\n",
    "\n",
    "        if left < 0:\n",
    "            left = 0\n",
    "        if right > width - 1:\n",
    "            right = width - 1\n",
    "        if top < 0:\n",
    "            top = 0\n",
    "        if bot > height - 1: \n",
    "            bot = height - 1\n",
    "        \n",
    "        thickness = 3\n",
    "        draw.line([(left, bot), (left, top)], fill=box_color, width=thickness)\n",
    "        draw.line([(left, top), (right, top)], fill=box_color, width=thickness)\n",
    "        draw.line([(right, top), (right, bot)], fill=box_color, width=thickness)\n",
    "        draw.line([(right, bot), (left, bot)], fill=box_color, width=thickness)\n",
    "\n",
    "    del draw\n",
    "    return np.array(PIL_image)"
   ]
  },
  {
   "cell_type": "code",
   "execution_count": null,
   "metadata": {
    "collapsed": true
   },
   "outputs": [],
   "source": [
    "annot_dict = {}\n",
    "img_width = 780.0\n",
    "img_height = 350.0\n",
    "\n",
    "directories = [\"../dataset/1_annot\", \"../dataset/2_annot\", \"../dataset/3_annot\",\n",
    "               \"../dataset/4_annot\", \"../dataset/5_annot\", \"../dataset/6_annot\"]"
   ]
  },
  {
   "cell_type": "code",
   "execution_count": null,
   "metadata": {
    "collapsed": false
   },
   "outputs": [],
   "source": [
    "for read_dir in directories:\n",
    "    if not os.path.exists(read_dir):\n",
    "        continue\n",
    "    \n",
    "    print(read_dir)\n",
    "    annot_dict[read_dir] = {}\n",
    "\n",
    "    annot_files = []\n",
    "    for file in os.listdir(read_dir):\n",
    "        if file.endswith(\".xml\") and file.startswith(\"image\"):\n",
    "            annot_files.append(file)\n",
    "\n",
    "    for annot_file in annot_files:\n",
    "        tree = etree.parse(os.path.join(read_dir, annot_file))\n",
    "        root = tree.getroot()\n",
    "        img_name = \"\"\n",
    "        boxes = []\n",
    "\n",
    "        for child in root:\n",
    "            if child.tag == \"filename\":\n",
    "                img_name = child.text\n",
    "            if child.tag == \"object\":\n",
    "                bnd_box = child[-1]\n",
    "                xmin = int(bnd_box[0].text)\n",
    "                ymin = int(bnd_box[1].text)\n",
    "                xmax = int(bnd_box[2].text)\n",
    "                ymax = int(bnd_box[3].text)\n",
    "\n",
    "                b = Box()\n",
    "                b.w = float(xmax - xmin) / img_width\n",
    "                b.h = float(ymax - ymin) / img_height\n",
    "                b.x = (float(xmin) / img_width) + (b.w / 2)\n",
    "                b.y = (float(ymin) / img_height) + (b.h / 2)\n",
    "                boxes.append(b)\n",
    "\n",
    "        annot_dict[read_dir][img_name] = boxes"
   ]
  },
  {
   "cell_type": "code",
   "execution_count": null,
   "metadata": {
    "collapsed": false
   },
   "outputs": [],
   "source": [
    "for k in annot_dict:\n",
    "    print(k)\n",
    "    print()\n",
    "    \n",
    "    for img in annot_dict[k]:\n",
    "        print(img)\n",
    "        for b in annot_dict[k][img]:\n",
    "            print(b)\n",
    "            print(b.x)\n",
    "            print(b.y)\n",
    "            print(b.w)\n",
    "            print(b.h)\n",
    "        print()"
   ]
  },
  {
   "cell_type": "code",
   "execution_count": null,
   "metadata": {
    "collapsed": true
   },
   "outputs": [],
   "source": [
    "# pickle annotation dictionary\n",
    "write_file = \"../dataset/annot_dict.p\"\n",
    "pickle.dump(annot_dict, open(write_file, \"wb\"))"
   ]
  },
  {
   "cell_type": "code",
   "execution_count": null,
   "metadata": {
    "collapsed": false
   },
   "outputs": [],
   "source": [
    "# visualize an example annotation\n",
    "image = Image.open(\"../dataset/6/image_003.png\")\n",
    "image = image.convert(\"RGB\")\n",
    "image = np.array(image)\n",
    "final = draw_boxes(annot_dict[\"../dataset/6_annot\"][\"image_003.png\"], image, \n",
    "                   ((0, image.shape[1]), (0, image.shape[0])), (0, 255, 0))"
   ]
  },
  {
   "cell_type": "code",
   "execution_count": null,
   "metadata": {
    "collapsed": false
   },
   "outputs": [],
   "source": [
    "plt.imshow(final)\n",
    "plt.axis(\"off\")\n",
    "plt.show()"
   ]
  },
  {
   "cell_type": "markdown",
   "metadata": {
    "collapsed": true
   },
   "source": [
    "## Recombine annotated images into video"
   ]
  },
  {
   "cell_type": "code",
   "execution_count": null,
   "metadata": {
    "collapsed": false
   },
   "outputs": [],
   "source": [
    "read_dir = \"../dataset/2_annot\"\n",
    "write_dir = \"../dataset/2_annot_img\"\n",
    "\n",
    "if not os.path.exists(write_dir):\n",
    "    os.makedirs(write_dir)\n",
    "\n",
    "for k in annot_dict[read_dir]:\n",
    "    image = Image.open(os.path.join(\"../dataset/2\", k))\n",
    "    image = image.convert(\"RGB\")\n",
    "    image = np.array(image)\n",
    "    final = draw_boxes(annot_dict[read_dir][k], image, \n",
    "                       ((0, image.shape[1]), (0, image.shape[0])), (0, 255, 0))\n",
    "    plt.imsave(os.path.join(write_dir, k), final)"
   ]
  },
  {
   "cell_type": "code",
   "execution_count": null,
   "metadata": {
    "collapsed": true
   },
   "outputs": [],
   "source": [
    "def combine_video_libx264(read_dir, write_dir, write_file_name):\n",
    "    command = \"ffmpeg -r 30 -i \" + os.path.join(read_dir, \"image_%03d.png\") + \" -vcodec libx264 \" + \\\n",
    "               os.path.join(write_dir, write_file_name)\n",
    "    print(command)\n",
    "    os.system(command)"
   ]
  },
  {
   "cell_type": "code",
   "execution_count": null,
   "metadata": {
    "collapsed": false
   },
   "outputs": [],
   "source": [
    "write_dir = \"../dataset\"\n",
    "combine_video_libx264(\"../dataset/2_annot_img\", write_dir, \"2_annot.mp4\")"
   ]
  }
 ],
 "metadata": {
  "kernelspec": {
   "display_name": "Python 2",
   "language": "python",
   "name": "python2"
  },
  "language_info": {
   "codemirror_mode": {
    "name": "ipython",
    "version": 2
   },
   "file_extension": ".py",
   "mimetype": "text/x-python",
   "name": "python",
   "nbconvert_exporter": "python",
   "pygments_lexer": "ipython2",
   "version": "2.7.11"
  }
 },
 "nbformat": 4,
 "nbformat_minor": 0
}
